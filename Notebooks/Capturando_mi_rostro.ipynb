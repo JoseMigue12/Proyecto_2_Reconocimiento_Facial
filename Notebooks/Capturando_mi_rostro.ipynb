{
 "cells": [
  {
   "cell_type": "markdown",
   "id": "dcbdf502-7de5-4e18-a26d-13240e835a18",
   "metadata": {},
   "source": [
    "### Guardando mi rostro de una carpeta de fotos\n",
    "\n",
    "Este código nos ayuda a recortar solamente el rostro de las fotográfias"
   ]
  },
  {
   "cell_type": "code",
   "execution_count": 1,
   "id": "f18eeac3-ff92-4daf-b6a3-2feb3a61b7ab",
   "metadata": {},
   "outputs": [],
   "source": [
    "import cv2\n",
    "import os"
   ]
  },
  {
   "cell_type": "code",
   "execution_count": 2,
   "id": "fe0f9b9d-0c4d-4616-a6ee-8759656109ae",
   "metadata": {},
   "outputs": [
    {
     "name": "stdout",
     "output_type": "stream",
     "text": [
      "Carpeta creada: Mi rostro encontrado3\n"
     ]
    }
   ],
   "source": [
    "#imagesPath = \"C:/Users\\heloj/Documents/Redes Neuronales/Proyecto_rostros/Mi_rostro2\"\n",
    "imagesPath = \"C:/Users\\heloj/Documents/Redes Neuronales/Proyecto_rostros/Data_procesamiento/Mi_rostro2\"\n",
    "imagesPathList = os.listdir(imagesPath)\n",
    "\n",
    "if not os.path.exists('Mi rostro encontrado3'):\n",
    "    print('Carpeta creada: Mi rostro encontrado3')\n",
    "    os.makedirs('Mi rostro encontrado3')\n",
    "\n",
    "faceClassif = cv2.CascadeClassifier(cv2.data.haarcascades+'haarcascade_frontalface_default.xml')\n",
    "\n",
    "count = 0\n",
    "for imageName in imagesPathList:\n",
    "    image = cv2.imread(imagesPath+'/'+imageName)\n",
    "    imageAux = image.copy()\n",
    "    gray = cv2.cvtColor(image, cv2.COLOR_BGR2GRAY)\n",
    "    \n",
    "    faces = faceClassif.detectMultiScale(gray, 2.1, 1)\n",
    "\n",
    "    for (x,y,w,h) in faces:\n",
    "        cv2.rectangle(image, (x,y),(x+w,y+h),(128,0,255),2)\n",
    "    cv2.rectangle(image,(10,5),(450,25),(255,255,255),-1)\n",
    "\n",
    "    for (x,y,w,h) in faces:\n",
    "            rostro = imageAux[y:y+h,x:x+w]\n",
    "            rostro = cv2.resize(rostro,(150,150), interpolation=cv2.INTER_CUBIC)\n",
    "            #cv2.imshow('rostro',rostro)\n",
    "            cv2.waitKey(0)\n",
    "            cv2.imwrite('Mi rostro encontrado3/mirostro_{}.jpg'.format(count),rostro)\n",
    "            count = count +1\n",
    "\n",
    "cv2.destroyAllWindows()\n"
   ]
  }
 ],
 "metadata": {
  "kernelspec": {
   "display_name": "Python 3 (ipykernel)",
   "language": "python",
   "name": "python3"
  },
  "language_info": {
   "codemirror_mode": {
    "name": "ipython",
    "version": 3
   },
   "file_extension": ".py",
   "mimetype": "text/x-python",
   "name": "python",
   "nbconvert_exporter": "python",
   "pygments_lexer": "ipython3",
   "version": "3.9.12"
  }
 },
 "nbformat": 4,
 "nbformat_minor": 5
}
