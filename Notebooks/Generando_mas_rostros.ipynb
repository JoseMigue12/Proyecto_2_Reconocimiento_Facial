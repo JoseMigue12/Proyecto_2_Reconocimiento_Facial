{
 "cells": [
  {
   "cell_type": "markdown",
   "id": "f4447d93-0094-4ec5-a153-1d4ea76200bb",
   "metadata": {},
   "source": [
    "### Ampliando mis datos de los rostros capturados con Keras ImageDataGenerator"
   ]
  },
  {
   "cell_type": "markdown",
   "id": "08363237-c580-410f-b3f7-718125e3cc01",
   "metadata": {},
   "source": [
    "Este código nos ayuda a generar más imágenes de rostros, se ocupo para el conjunto de datos de mi rostro ya que contaba con 200 imágenes y así aumente mi conjunto a 2000. "
   ]
  },
  {
   "cell_type": "code",
   "execution_count": 1,
   "id": "2997150e-72dd-4b64-a38e-45948938fa25",
   "metadata": {},
   "outputs": [],
   "source": [
    "from PIL import Image"
   ]
  },
  {
   "cell_type": "code",
   "execution_count": 2,
   "id": "b642a86b-e458-4541-ab60-ca038c447e1d",
   "metadata": {},
   "outputs": [],
   "source": [
    "import tensorflow as tf\n",
    "from tensorflow.keras.preprocessing.image import ImageDataGenerator"
   ]
  },
  {
   "cell_type": "code",
   "execution_count": 3,
   "id": "fcdbb551-f731-4823-96a7-528798f9abc7",
   "metadata": {},
   "outputs": [],
   "source": [
    "from skimage import io"
   ]
  },
  {
   "cell_type": "code",
   "execution_count": 13,
   "id": "3b906eea-bd3d-4ef0-a029-f9923ad5b068",
   "metadata": {},
   "outputs": [],
   "source": [
    "datagen = ImageDataGenerator(\n",
    "        rotation_range=35,     #Random rotation between 0 and 45\n",
    "        width_shift_range=0.1,   #% shift\n",
    "        height_shift_range=0.1,\n",
    "        shear_range=0.2,\n",
    "        zoom_range=0.2,\n",
    "        horizontal_flip=True,\n",
    "        fill_mode='constant', cval=125)    #Also try nearest, constant, reflect, wrap"
   ]
  },
  {
   "cell_type": "code",
   "execution_count": 159,
   "id": "34d6beb5-701d-492a-b908-cdf1c4d01985",
   "metadata": {},
   "outputs": [],
   "source": [
    "\n",
    "x = io.imread('C:/Users/heloj/Documents/Redes Neuronales/Proyecto_rostros/Mi rostro encontrado/mi_rostro (146).jpg') \n",
    "x = x.reshape((1, ) + x.shape)  #Array with shape (1, 256, 256, 3)\n",
    "\n",
    "i = 0\n",
    "for batch in datagen.flow(x, batch_size=16,  \n",
    "                          save_to_dir='Miguel', \n",
    "                          save_prefix='mrostro1', \n",
    "                          save_format='jpg'):\n",
    "    i += 1\n",
    "    if i > 12:\n",
    "        break  # otherwise the generator would loop indefinitely  \n",
    "\n"
   ]
  },
  {
   "cell_type": "code",
   "execution_count": null,
   "id": "f9be7b30-4e48-4592-9b42-a90e0c9eafe7",
   "metadata": {},
   "outputs": [],
   "source": []
  },
  {
   "cell_type": "code",
   "execution_count": null,
   "id": "ed971be2-86c1-4382-81d9-11f3003cffb2",
   "metadata": {},
   "outputs": [],
   "source": []
  }
 ],
 "metadata": {
  "kernelspec": {
   "display_name": "Python 3 (ipykernel)",
   "language": "python",
   "name": "python3"
  },
  "language_info": {
   "codemirror_mode": {
    "name": "ipython",
    "version": 3
   },
   "file_extension": ".py",
   "mimetype": "text/x-python",
   "name": "python",
   "nbconvert_exporter": "python",
   "pygments_lexer": "ipython3",
   "version": "3.9.12"
  }
 },
 "nbformat": 4,
 "nbformat_minor": 5
}
